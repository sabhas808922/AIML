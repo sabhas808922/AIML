{
  "nbformat": 4,
  "nbformat_minor": 0,
  "metadata": {
    "colab": {
      "provenance": [],
      "include_colab_link": true
    },
    "kernelspec": {
      "name": "python3",
      "display_name": "Python 3"
    },
    "language_info": {
      "name": "python"
    }
  },
  "cells": [
    {
      "cell_type": "markdown",
      "metadata": {
        "id": "view-in-github",
        "colab_type": "text"
      },
      "source": [
        "<a href=\"https://colab.research.google.com/github/sabhas808922/AIML/blob/main/Untitled1.ipynb\" target=\"_parent\"><img src=\"https://colab.research.google.com/assets/colab-badge.svg\" alt=\"Open In Colab\"/></a>"
      ]
    },
    {
      "cell_type": "markdown",
      "metadata": {
        "id": "UhmgnA67JbOo"
      },
      "source": [
        "## Data types in python\n",
        "\n",
        "Python is a dynamically typed language, which means you don't need to declare the data type of a variable when you create it; Python will determine the data type dynamically at runtime. However, Python has several built-in data types that you can use to store and manipulate different kinds of data. Here are some of the most common data types in Python:\n",
        "\n",
        "* ### Numeric  - Numeric variables take values which are numbers like 9, 3.14, 0, Inf\n",
        "\n",
        "\n",
        "* ### String   - 'hello',\"hello\"\n",
        "\n",
        "\n",
        "* ### Boolean  - True, False\n",
        "\n",
        "\n",
        "* ### Datetime  - 2023-08-05 08:21:04"
      ]
    },
    {
      "cell_type": "markdown",
      "metadata": {
        "id": "I9Fwf5ooJbOq"
      },
      "source": [
        "# Integers and Floats"
      ]
    },
    {
      "cell_type": "code",
      "execution_count": null,
      "metadata": {
        "colab": {
          "base_uri": "https://localhost:8080/"
        },
        "id": "_JPgFgAnvnUH",
        "outputId": "66d96458-15c9-44ab-b31d-f16ed95792cf"
      },
      "outputs": [
        {
          "output_type": "execute_result",
          "data": {
            "text/plain": [
              "int"
            ]
          },
          "metadata": {},
          "execution_count": 1
        }
      ],
      "source": [
        "a = 10\n",
        "type(a)"
      ]
    },
    {
      "cell_type": "code",
      "source": [
        "type(10.3)"
      ],
      "metadata": {
        "colab": {
          "base_uri": "https://localhost:8080/"
        },
        "id": "9TGUIXLmyzw5",
        "outputId": "8824447e-9ab0-4376-a188-186f7113daac"
      },
      "execution_count": null,
      "outputs": [
        {
          "output_type": "execute_result",
          "data": {
            "text/plain": [
              "float"
            ]
          },
          "metadata": {},
          "execution_count": 2
        }
      ]
    },
    {
      "cell_type": "code",
      "source": [
        "type(True)"
      ],
      "metadata": {
        "colab": {
          "base_uri": "https://localhost:8080/"
        },
        "id": "I6lYQ7JQy6t6",
        "outputId": "89b525bf-de04-4b09-ce59-07254a177807"
      },
      "execution_count": null,
      "outputs": [
        {
          "output_type": "execute_result",
          "data": {
            "text/plain": [
              "bool"
            ]
          },
          "metadata": {},
          "execution_count": 3
        }
      ]
    },
    {
      "cell_type": "code",
      "source": [
        "type(False)"
      ],
      "metadata": {
        "colab": {
          "base_uri": "https://localhost:8080/"
        },
        "id": "rnrwGpaizDUt",
        "outputId": "9dfeaf51-4ade-4c24-d9bb-cdca3f318324"
      },
      "execution_count": null,
      "outputs": [
        {
          "output_type": "execute_result",
          "data": {
            "text/plain": [
              "bool"
            ]
          },
          "metadata": {},
          "execution_count": 4
        }
      ]
    },
    {
      "cell_type": "markdown",
      "metadata": {
        "id": "Mfy5IszoJbOr"
      },
      "source": [
        "## Perform Arithmetic oprations"
      ]
    },
    {
      "cell_type": "code",
      "source": [
        "a = 10\n",
        "b = 20\n",
        "c = a+b\n",
        "print(c)"
      ],
      "metadata": {
        "colab": {
          "base_uri": "https://localhost:8080/"
        },
        "id": "yKAYVQZtzHMZ",
        "outputId": "eac60c0e-1d70-412a-8747-e3d9b76cf1ce"
      },
      "execution_count": null,
      "outputs": [
        {
          "output_type": "stream",
          "name": "stdout",
          "text": [
            "30\n"
          ]
        }
      ]
    },
    {
      "cell_type": "code",
      "source": [
        "a = 10\n",
        "b = 20\n",
        "print(a+b)"
      ],
      "metadata": {
        "colab": {
          "base_uri": "https://localhost:8080/"
        },
        "id": "CewArMXdzfbB",
        "outputId": "543984a8-3cf1-461c-8e98-117de2481546"
      },
      "execution_count": null,
      "outputs": [
        {
          "output_type": "stream",
          "name": "stdout",
          "text": [
            "30\n"
          ]
        }
      ]
    },
    {
      "cell_type": "code",
      "source": [
        "print(100+200)"
      ],
      "metadata": {
        "colab": {
          "base_uri": "https://localhost:8080/"
        },
        "id": "DUInuKcmzi0I",
        "outputId": "c3084540-2200-4aeb-910e-165a69f28e51"
      },
      "execution_count": null,
      "outputs": [
        {
          "output_type": "stream",
          "name": "stdout",
          "text": [
            "300\n"
          ]
        }
      ]
    },
    {
      "cell_type": "code",
      "source": [
        "a = 10\n",
        "b = 20\n",
        "print(a-b)"
      ],
      "metadata": {
        "colab": {
          "base_uri": "https://localhost:8080/"
        },
        "id": "5jXWofdLztQ1",
        "outputId": "63b43c41-6936-407e-b5d6-a15238d70f0a"
      },
      "execution_count": null,
      "outputs": [
        {
          "output_type": "stream",
          "name": "stdout",
          "text": [
            "-10\n"
          ]
        }
      ]
    },
    {
      "cell_type": "code",
      "source": [
        "print(a*b)"
      ],
      "metadata": {
        "colab": {
          "base_uri": "https://localhost:8080/"
        },
        "id": "lYEdZ1Dkzx3z",
        "outputId": "85cce0d7-21c0-462a-da49-e4c7d3815089"
      },
      "execution_count": null,
      "outputs": [
        {
          "output_type": "stream",
          "name": "stdout",
          "text": [
            "200\n"
          ]
        }
      ]
    },
    {
      "cell_type": "code",
      "source": [
        "a = 10\n",
        "b = 2\n",
        "print(a/b)"
      ],
      "metadata": {
        "colab": {
          "base_uri": "https://localhost:8080/"
        },
        "id": "R_WNBkPRz4Cy",
        "outputId": "ae8d3ae9-2ead-4fe6-a6fe-212c87a57c86"
      },
      "execution_count": null,
      "outputs": [
        {
          "output_type": "stream",
          "name": "stdout",
          "text": [
            "5.0\n"
          ]
        }
      ]
    },
    {
      "cell_type": "code",
      "source": [
        "a = 10\n",
        "b = 3\n",
        "print(a%b)"
      ],
      "metadata": {
        "colab": {
          "base_uri": "https://localhost:8080/"
        },
        "id": "KwhiMg6P0RdK",
        "outputId": "b2981e22-2856-4b91-a728-c57232d2c3e0"
      },
      "execution_count": null,
      "outputs": [
        {
          "output_type": "stream",
          "name": "stdout",
          "text": [
            "1\n"
          ]
        }
      ]
    },
    {
      "cell_type": "code",
      "source": [
        "a = 12\n",
        "b = 3\n",
        "print(a%b)"
      ],
      "metadata": {
        "colab": {
          "base_uri": "https://localhost:8080/"
        },
        "id": "eMq9K6I70ZFi",
        "outputId": "784e64d1-eeb5-461c-e0ae-5ba21cb10590"
      },
      "execution_count": null,
      "outputs": [
        {
          "output_type": "stream",
          "name": "stdout",
          "text": [
            "0\n"
          ]
        }
      ]
    },
    {
      "cell_type": "code",
      "source": [
        "print(13//2)"
      ],
      "metadata": {
        "colab": {
          "base_uri": "https://localhost:8080/"
        },
        "id": "8TjB6OjN0i-P",
        "outputId": "1a111315-6d44-4554-c5d4-d14234bbabc4"
      },
      "execution_count": null,
      "outputs": [
        {
          "output_type": "stream",
          "name": "stdout",
          "text": [
            "6\n"
          ]
        }
      ]
    },
    {
      "cell_type": "code",
      "source": [
        "# Python follow BODMAS\n",
        "\n",
        "2+3+5-3*2"
      ],
      "metadata": {
        "id": "dJF9JSXQ0xJQ"
      },
      "execution_count": null,
      "outputs": []
    },
    {
      "cell_type": "code",
      "source": [],
      "metadata": {
        "id": "A8k5cndN1QCb"
      },
      "execution_count": null,
      "outputs": []
    },
    {
      "cell_type": "markdown",
      "metadata": {
        "id": "rU046YbcJbPN"
      },
      "source": [
        "## Let's Know a bout Variable?"
      ]
    },
    {
      "cell_type": "code",
      "source": [
        "_raahul_ = 10\n",
        "print(_raahul_)"
      ],
      "metadata": {
        "colab": {
          "base_uri": "https://localhost:8080/"
        },
        "id": "5JK_YkF91RDk",
        "outputId": "7f11f848-d431-43d6-ac42-829ec94e0271"
      },
      "execution_count": null,
      "outputs": [
        {
          "output_type": "stream",
          "name": "stdout",
          "text": [
            "10\n"
          ]
        }
      ]
    },
    {
      "cell_type": "code",
      "source": [
        "_raahul_singh  = 10\n",
        "print(_raahul_singh)"
      ],
      "metadata": {
        "colab": {
          "base_uri": "https://localhost:8080/"
        },
        "id": "5t_WqS4F1RBP",
        "outputId": "d873aba1-a2b1-480d-a715-b2299f882ea6"
      },
      "execution_count": null,
      "outputs": [
        {
          "output_type": "stream",
          "name": "stdout",
          "text": [
            "10\n"
          ]
        }
      ]
    },
    {
      "cell_type": "code",
      "source": [
        "_raahul_singh1  = 10\n",
        "print(_raahul_singh1)"
      ],
      "metadata": {
        "colab": {
          "base_uri": "https://localhost:8080/"
        },
        "id": "qkIX95RW1Q-6",
        "outputId": "b3e54e63-9ee6-43a3-93aa-e9c9d059072e"
      },
      "execution_count": null,
      "outputs": [
        {
          "output_type": "stream",
          "name": "stdout",
          "text": [
            "10\n"
          ]
        }
      ]
    },
    {
      "cell_type": "code",
      "source": [
        "a  = 10\n",
        "A = 20\n",
        "print(a)"
      ],
      "metadata": {
        "colab": {
          "base_uri": "https://localhost:8080/"
        },
        "id": "zi7URA6e1Q83",
        "outputId": "cef84c04-5ff7-4b22-931a-94c74da592b5"
      },
      "execution_count": null,
      "outputs": [
        {
          "output_type": "stream",
          "name": "stdout",
          "text": [
            "10\n"
          ]
        }
      ]
    },
    {
      "cell_type": "code",
      "source": [
        "print(A)"
      ],
      "metadata": {
        "colab": {
          "base_uri": "https://localhost:8080/"
        },
        "id": "FYd9Vt_Q2Oxq",
        "outputId": "f6283c34-e990-4766-ecb1-126cc37ae64e"
      },
      "execution_count": null,
      "outputs": [
        {
          "output_type": "stream",
          "name": "stdout",
          "text": [
            "20\n"
          ]
        }
      ]
    },
    {
      "cell_type": "markdown",
      "metadata": {
        "id": "c2o8JJcd2Zb7"
      },
      "source": [
        "## Let's Know a bout Variable?"
      ]
    },
    {
      "cell_type": "markdown",
      "metadata": {
        "id": "8lUvKtXHttAJ"
      },
      "source": [
        "## Comparison Operators\n",
        "\n",
        "Equal to ==\n",
        "\n",
        "Not equal to !=\n",
        "\n",
        "Greater than >\n",
        "\n",
        "Less than <\n",
        "\n",
        "Greater than or equal to >=\n",
        "\n",
        "Less than or equal to <=\n",
        "\n"
      ]
    },
    {
      "cell_type": "code",
      "source": [],
      "metadata": {
        "id": "1lbZ0TjN2aNg"
      },
      "execution_count": null,
      "outputs": []
    }
  ]
}