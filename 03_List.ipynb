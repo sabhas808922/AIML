{
  "nbformat": 4,
  "nbformat_minor": 0,
  "metadata": {
    "colab": {
      "provenance": [],
      "include_colab_link": true
    },
    "kernelspec": {
      "name": "python3",
      "display_name": "Python 3"
    },
    "language_info": {
      "name": "python"
    }
  },
  "cells": [
    {
      "cell_type": "markdown",
      "metadata": {
        "id": "view-in-github",
        "colab_type": "text"
      },
      "source": [
        "<a href=\"https://colab.research.google.com/github/sabhas808922/AIML/blob/main/03_List.ipynb\" target=\"_parent\"><img src=\"https://colab.research.google.com/assets/colab-badge.svg\" alt=\"Open In Colab\"/></a>"
      ]
    },
    {
      "cell_type": "markdown",
      "metadata": {
        "id": "t1KX9ExluH05"
      },
      "source": [
        "### Earlier when discussing strings we introduced the concept of a <u>sequence</u> in Python.\n",
        "* <u>Lists</u> can be thought of the most general version of a *sequence* in Python.\n",
        "\n",
        "\n",
        "* Unlike strings, they are mutable, meaning the elements inside a list can be changed!\n",
        "\n",
        "\n",
        "* Lists are constructed with brackets <code>[]</code> and commas separating every element in the list."
      ]
    },
    {
      "cell_type": "code",
      "execution_count": null,
      "metadata": {
        "colab": {
          "base_uri": "https://localhost:8080/"
        },
        "id": "AfOOTy4mebQ-",
        "outputId": "15e200d0-a109-412c-fe81-c31e13c4d37c"
      },
      "outputs": [
        {
          "output_type": "execute_result",
          "data": {
            "text/plain": [
              "list"
            ]
          },
          "metadata": {},
          "execution_count": 1
        }
      ],
      "source": [
        "a = [1,2,3,4.2,'hello',True]\n",
        "type(a)"
      ]
    },
    {
      "cell_type": "code",
      "source": [
        "print(a)"
      ],
      "metadata": {
        "colab": {
          "base_uri": "https://localhost:8080/"
        },
        "id": "VxxwvAn6ggm0",
        "outputId": "51e7ffa5-febf-4036-c22a-124b0516e6b9"
      },
      "execution_count": null,
      "outputs": [
        {
          "output_type": "stream",
          "name": "stdout",
          "text": [
            "[1, 2, 3, 4.2, 'hello', True]\n"
          ]
        }
      ]
    },
    {
      "cell_type": "code",
      "source": [
        "print(a[0])"
      ],
      "metadata": {
        "colab": {
          "base_uri": "https://localhost:8080/"
        },
        "id": "CAIK6HDigiW9",
        "outputId": "6f7adfc4-7a6b-4bd9-dabf-c4b3d99ccdc6"
      },
      "execution_count": null,
      "outputs": [
        {
          "output_type": "stream",
          "name": "stdout",
          "text": [
            "1\n"
          ]
        }
      ]
    },
    {
      "cell_type": "code",
      "source": [
        "print(a[3])"
      ],
      "metadata": {
        "colab": {
          "base_uri": "https://localhost:8080/"
        },
        "id": "RlQ3bfpBgn_N",
        "outputId": "2a0b1d0e-d203-44b3-c21a-321f01362dd6"
      },
      "execution_count": null,
      "outputs": [
        {
          "output_type": "stream",
          "name": "stdout",
          "text": [
            "4.2\n"
          ]
        }
      ]
    },
    {
      "cell_type": "code",
      "source": [
        "print(a[4])"
      ],
      "metadata": {
        "colab": {
          "base_uri": "https://localhost:8080/"
        },
        "id": "vVHWZgC0gqRd",
        "outputId": "619c950f-a22d-4b3f-f272-2a49119245db"
      },
      "execution_count": null,
      "outputs": [
        {
          "output_type": "stream",
          "name": "stdout",
          "text": [
            "hello\n"
          ]
        }
      ]
    },
    {
      "cell_type": "code",
      "source": [
        "a = [1,2,3,[1,2,3,'hello'],'rahul']\n",
        "print(a[3])"
      ],
      "metadata": {
        "colab": {
          "base_uri": "https://localhost:8080/"
        },
        "id": "5rQXdBWyhE0j",
        "outputId": "de92a08d-afee-4421-89ba-3e3509a44753"
      },
      "execution_count": null,
      "outputs": [
        {
          "output_type": "stream",
          "name": "stdout",
          "text": [
            "[1, 2, 3, 'hello']\n"
          ]
        }
      ]
    },
    {
      "cell_type": "code",
      "source": [
        "print(a[3][3])"
      ],
      "metadata": {
        "colab": {
          "base_uri": "https://localhost:8080/"
        },
        "id": "Yum_HlDOhpnP",
        "outputId": "27851745-13b6-4deb-c8e3-bd1129600c4e"
      },
      "execution_count": null,
      "outputs": [
        {
          "output_type": "stream",
          "name": "stdout",
          "text": [
            "hello\n"
          ]
        }
      ]
    },
    {
      "cell_type": "code",
      "source": [
        "print(a[3][3][1])"
      ],
      "metadata": {
        "colab": {
          "base_uri": "https://localhost:8080/"
        },
        "id": "Qd3rugAQhxVh",
        "outputId": "da7336f7-ac46-476b-ee20-a9ffc7fd89ff"
      },
      "execution_count": null,
      "outputs": [
        {
          "output_type": "stream",
          "name": "stdout",
          "text": [
            "e\n"
          ]
        }
      ]
    },
    {
      "cell_type": "markdown",
      "metadata": {
        "id": "VyvYPGtYuH16"
      },
      "source": [
        "## List Slicing\n",
        "\n",
        "* We can use a <code>:</code> to perform *slicing* which grabs everything up to a designated point.\n",
        "\n",
        "\n",
        "* The starting index is specified on the left of the <code>:</code> and the ending index is specified on the right of the <code>:</code>.\n",
        "\n",
        "\n",
        "* Remember the element located at the right index is not included."
      ]
    },
    {
      "cell_type": "markdown",
      "metadata": {
        "id": "w9uejzvNEYgq"
      },
      "source": [
        "![image.png](data:image/png;base64,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)"
      ]
    },
    {
      "cell_type": "code",
      "source": [
        "a = [1,2,3,4,5,6,7]\n",
        "print(a[2:5])"
      ],
      "metadata": {
        "id": "r6wS07gNh0e9",
        "colab": {
          "base_uri": "https://localhost:8080/"
        },
        "outputId": "35abb9d4-86dd-45cb-a21b-52ba036e9453"
      },
      "execution_count": null,
      "outputs": [
        {
          "output_type": "stream",
          "name": "stdout",
          "text": [
            "[3, 4, 5]\n"
          ]
        }
      ]
    },
    {
      "cell_type": "code",
      "source": [
        "print(a[2:5:2])"
      ],
      "metadata": {
        "id": "IbOCwoihkNe3"
      },
      "execution_count": null,
      "outputs": []
    },
    {
      "cell_type": "markdown",
      "metadata": {
        "id": "Sq2OgleGuH23"
      },
      "source": [
        "## List Operations\n",
        "* Remember we said that lists are mutable as opposed to strings. Lets see how can we change the elements of a list"
      ]
    },
    {
      "cell_type": "markdown",
      "metadata": {
        "id": "fDoYdXjFuH24"
      },
      "source": [
        "* We can also use <code>+</code> to concatenate lists, just like we did for strings."
      ]
    },
    {
      "cell_type": "code",
      "source": [
        "a = [1,2,3,4,5]\n",
        "b = [4,5,6,7]\n",
        "print(a+b)"
      ],
      "metadata": {
        "colab": {
          "base_uri": "https://localhost:8080/"
        },
        "id": "XBqD30MYkc6U",
        "outputId": "35f5a393-dd8b-469e-f5b2-dabde89691b3"
      },
      "execution_count": null,
      "outputs": [
        {
          "output_type": "stream",
          "name": "stdout",
          "text": [
            "[1, 2, 3, 4, 5, 4, 5, 6, 7]\n"
          ]
        }
      ]
    },
    {
      "cell_type": "code",
      "source": [
        "print(a)"
      ],
      "metadata": {
        "colab": {
          "base_uri": "https://localhost:8080/"
        },
        "id": "CIR0Fhp7kuni",
        "outputId": "aeded1a2-fb64-4bb4-cee9-fde3ab62f331"
      },
      "execution_count": null,
      "outputs": [
        {
          "output_type": "stream",
          "name": "stdout",
          "text": [
            "[1, 2, 3, 4, 5]\n"
          ]
        }
      ]
    },
    {
      "cell_type": "code",
      "source": [
        "print(b)"
      ],
      "metadata": {
        "colab": {
          "base_uri": "https://localhost:8080/"
        },
        "id": "uLV_O5r8k9Vs",
        "outputId": "0df83393-e656-4edb-c96d-ef218768932d"
      },
      "execution_count": null,
      "outputs": [
        {
          "output_type": "stream",
          "name": "stdout",
          "text": [
            "[4, 5, 6, 7]\n"
          ]
        }
      ]
    },
    {
      "cell_type": "code",
      "source": [
        "a = [1,2,3,4,5]\n",
        "b = [4,5,6,7]\n",
        "c = a+b\n",
        "print(c)"
      ],
      "metadata": {
        "colab": {
          "base_uri": "https://localhost:8080/"
        },
        "id": "-aCmCc4Tk-uc",
        "outputId": "33f99360-b9ba-48b5-a9da-a8d10566ae78"
      },
      "execution_count": null,
      "outputs": [
        {
          "output_type": "stream",
          "name": "stdout",
          "text": [
            "[1, 2, 3, 4, 5, 4, 5, 6, 7]\n"
          ]
        }
      ]
    },
    {
      "cell_type": "code",
      "source": [
        "print(c)"
      ],
      "metadata": {
        "colab": {
          "base_uri": "https://localhost:8080/"
        },
        "id": "zRh7dh-7lNMk",
        "outputId": "51308593-6e8f-4ce6-cce4-689ab3f2adb8"
      },
      "execution_count": null,
      "outputs": [
        {
          "output_type": "stream",
          "name": "stdout",
          "text": [
            "[1, 2, 3, 4, 5, 4, 5, 6, 7]\n"
          ]
        }
      ]
    },
    {
      "cell_type": "markdown",
      "metadata": {
        "id": "gzCO-o-1uH4F"
      },
      "source": [
        "## List Methods\n",
        "\n",
        "* If you are familiar with another programming language, you might start to draw parallels between arrays in another language and lists in Python. Lists in Python however, tend to be more flexible than arrays in other languages for a two good reasons: they have no fixed size (meaning we don't have to specify how big a list will be), and they have no fixed type constraint (like we've seen above).\n",
        "\n",
        "\n",
        "* Let's go ahead and explore some more special methods for lists:"
      ]
    },
    {
      "cell_type": "markdown",
      "metadata": {
        "id": "BgmqyEUHuH4M"
      },
      "source": [
        "### <code>append()</code>\n",
        "\n",
        "* Use the <code>append()</code> method to permanently add an item to the end of a list.\n",
        "\n",
        "\n",
        "* <code>append()</code> method takes the element which you want to add to the list as an argument"
      ]
    },
    {
      "cell_type": "code",
      "source": [
        "a = [1,2,3,4,5]\n",
        "a.append('rahul')"
      ],
      "metadata": {
        "id": "_TntpGBslOBF"
      },
      "execution_count": null,
      "outputs": []
    },
    {
      "cell_type": "code",
      "source": [
        "print(a)"
      ],
      "metadata": {
        "colab": {
          "base_uri": "https://localhost:8080/"
        },
        "id": "-SZz2kZ9l1xK",
        "outputId": "984f0af3-140a-4d1f-9ba6-35163a0ee206"
      },
      "execution_count": null,
      "outputs": [
        {
          "output_type": "stream",
          "name": "stdout",
          "text": [
            "[1, 2, 3, 4, 5, 'rahul']\n"
          ]
        }
      ]
    },
    {
      "cell_type": "code",
      "source": [
        "a = [1,2,3,4,5]\n",
        "b = [3,4,5,7]\n",
        "a.append(b)"
      ],
      "metadata": {
        "id": "Rm8ZgOz5l59P"
      },
      "execution_count": null,
      "outputs": []
    },
    {
      "cell_type": "code",
      "source": [
        "print(a)"
      ],
      "metadata": {
        "colab": {
          "base_uri": "https://localhost:8080/"
        },
        "id": "AaqFf_WomCa1",
        "outputId": "f806755b-ad8c-460a-9c52-ffa290c65d7d"
      },
      "execution_count": null,
      "outputs": [
        {
          "output_type": "stream",
          "name": "stdout",
          "text": [
            "[1, 2, 3, 4, 5, [3, 4, 5, 7]]\n"
          ]
        }
      ]
    },
    {
      "cell_type": "markdown",
      "metadata": {
        "id": "tGmbu4MKuH43"
      },
      "source": [
        "### <code>extend()</code>\n",
        "\n",
        "* Use the <code> extend()</code> method to merge a list to an existing list\n",
        "\n",
        "\n",
        "* <code> extend()</code> method takes a list or any iterable(don't worry about it now) as an argument.\n",
        "\n",
        "\n",
        "* Quite helpful when you have two or more lists and you want to merge them together"
      ]
    },
    {
      "cell_type": "code",
      "source": [
        "a = [1,2,3,4,5]\n",
        "b = [3,4,5,7]\n",
        "a.extend(b)\n",
        "print(a)"
      ],
      "metadata": {
        "colab": {
          "base_uri": "https://localhost:8080/"
        },
        "id": "YO3blePqmTXN",
        "outputId": "a28c4cf4-c262-45c8-bd57-e13792e2989a"
      },
      "execution_count": null,
      "outputs": [
        {
          "output_type": "stream",
          "name": "stdout",
          "text": [
            "[1, 2, 3, 4, 5, 3, 4, 5, 7]\n"
          ]
        }
      ]
    },
    {
      "cell_type": "markdown",
      "metadata": {
        "id": "6Qd7qKM1uH3Y"
      },
      "source": [
        "### <code>len()</code>\n",
        "\n",
        "\n",
        "* <code>len()</code> function returns the length of the list"
      ]
    },
    {
      "cell_type": "code",
      "source": [
        "a = [1, 2, 3, 4, 5, 3, 4, 5, 7]\n",
        "print(len(a))"
      ],
      "metadata": {
        "colab": {
          "base_uri": "https://localhost:8080/"
        },
        "id": "KszWmSdJmmZn",
        "outputId": "d468a7fc-8639-4d38-e334-ffd50daf5138"
      },
      "execution_count": null,
      "outputs": [
        {
          "output_type": "stream",
          "name": "stdout",
          "text": [
            "9\n"
          ]
        }
      ]
    },
    {
      "cell_type": "markdown",
      "metadata": {
        "id": "p7d98KoOuH3f"
      },
      "source": [
        "### <code>min()</code>\n",
        "\n",
        "\n",
        "* <code>min()</code> function returns the minimum element of the list\n",
        "\n",
        "\n",
        "* <code>min()</code> function only works with lists of similar data types"
      ]
    },
    {
      "cell_type": "code",
      "source": [
        "a = [1,2,3,4,100,99]\n",
        "print(min(a))"
      ],
      "metadata": {
        "colab": {
          "base_uri": "https://localhost:8080/"
        },
        "id": "7fAywd2xnSUL",
        "outputId": "73d9a074-cdb2-49b4-e950-f2b097313027"
      },
      "execution_count": null,
      "outputs": [
        {
          "output_type": "stream",
          "name": "stdout",
          "text": [
            "1\n"
          ]
        }
      ]
    },
    {
      "cell_type": "code",
      "source": [
        "a = [1,2,3,4,100,99,'a','b','z']\n",
        "print(min(a))"
      ],
      "metadata": {
        "colab": {
          "base_uri": "https://localhost:8080/",
          "height": 159
        },
        "id": "geMmY4J-nSR1",
        "outputId": "f02ca4d3-34dd-414e-cddd-79b41560b3bb"
      },
      "execution_count": null,
      "outputs": [
        {
          "output_type": "error",
          "ename": "TypeError",
          "evalue": "'<' not supported between instances of 'str' and 'int'",
          "traceback": [
            "\u001b[0;31m---------------------------------------------------------------------------\u001b[0m",
            "\u001b[0;31mTypeError\u001b[0m                                 Traceback (most recent call last)",
            "\u001b[0;32m/tmp/ipython-input-22-2655445536.py\u001b[0m in \u001b[0;36m<cell line: 0>\u001b[0;34m()\u001b[0m\n\u001b[1;32m      1\u001b[0m \u001b[0ma\u001b[0m \u001b[0;34m=\u001b[0m \u001b[0;34m[\u001b[0m\u001b[0;36m1\u001b[0m\u001b[0;34m,\u001b[0m\u001b[0;36m2\u001b[0m\u001b[0;34m,\u001b[0m\u001b[0;36m3\u001b[0m\u001b[0;34m,\u001b[0m\u001b[0;36m4\u001b[0m\u001b[0;34m,\u001b[0m\u001b[0;36m100\u001b[0m\u001b[0;34m,\u001b[0m\u001b[0;36m99\u001b[0m\u001b[0;34m,\u001b[0m\u001b[0;34m'a'\u001b[0m\u001b[0;34m,\u001b[0m\u001b[0;34m'b'\u001b[0m\u001b[0;34m,\u001b[0m\u001b[0;34m'z'\u001b[0m\u001b[0;34m]\u001b[0m\u001b[0;34m\u001b[0m\u001b[0;34m\u001b[0m\u001b[0m\n\u001b[0;32m----> 2\u001b[0;31m \u001b[0mprint\u001b[0m\u001b[0;34m(\u001b[0m\u001b[0mmin\u001b[0m\u001b[0;34m(\u001b[0m\u001b[0ma\u001b[0m\u001b[0;34m)\u001b[0m\u001b[0;34m)\u001b[0m\u001b[0;34m\u001b[0m\u001b[0;34m\u001b[0m\u001b[0m\n\u001b[0m",
            "\u001b[0;31mTypeError\u001b[0m: '<' not supported between instances of 'str' and 'int'"
          ]
        }
      ]
    },
    {
      "cell_type": "code",
      "source": [],
      "metadata": {
        "id": "43qJmhEdnSPf"
      },
      "execution_count": null,
      "outputs": []
    },
    {
      "cell_type": "code",
      "source": [],
      "metadata": {
        "id": "W8Pp9N74nSNN"
      },
      "execution_count": null,
      "outputs": []
    },
    {
      "cell_type": "markdown",
      "metadata": {
        "id": "et3AsvCkuH3n"
      },
      "source": [
        "### <code>max()</code>\n",
        "\n",
        "\n",
        "* <code>max()</code> function returns the maximum element of the list\n",
        "\n",
        "\n",
        "* <code>max()</code> function only works with lists of similar data types"
      ]
    },
    {
      "cell_type": "code",
      "source": [
        "a = ['a','b','z']\n",
        "print(max(a))"
      ],
      "metadata": {
        "colab": {
          "base_uri": "https://localhost:8080/"
        },
        "id": "BM3bWVdFnqHY",
        "outputId": "3bcd5b83-4e55-4571-8c84-db7512d95efa"
      },
      "execution_count": null,
      "outputs": [
        {
          "output_type": "stream",
          "name": "stdout",
          "text": [
            "z\n"
          ]
        }
      ]
    },
    {
      "cell_type": "code",
      "source": [],
      "metadata": {
        "id": "Rg2XbOIdnp9e"
      },
      "execution_count": null,
      "outputs": []
    },
    {
      "cell_type": "markdown",
      "metadata": {
        "id": "1sitoBoVuH3u"
      },
      "source": [
        "### <code>sum()</code>\n",
        "\n",
        "\n",
        "* <code>sum()</code> function returns the sum of the elements of the list\n",
        "\n",
        "\n",
        "* <code>sum()</code> function only works with lists of numeric data types"
      ]
    },
    {
      "cell_type": "code",
      "source": [
        "a = [1,2,3,4]\n",
        "print(sum(a))"
      ],
      "metadata": {
        "colab": {
          "base_uri": "https://localhost:8080/"
        },
        "id": "OYWwqk85nu8Z",
        "outputId": "7a321bb0-7788-49e9-920d-439d1030bdf2"
      },
      "execution_count": null,
      "outputs": [
        {
          "output_type": "stream",
          "name": "stdout",
          "text": [
            "10\n"
          ]
        }
      ]
    },
    {
      "cell_type": "markdown",
      "metadata": {
        "id": "V31491BvuH3z"
      },
      "source": [
        "### <code>sorted()</code>\n",
        "\n",
        "\n",
        "* <code>sorted()</code> function returns the sorted list\n",
        "\n",
        "\n",
        "* <code>sorted()</code> function takes reverse boolean as an argument\n",
        "\n",
        "\n",
        "* <code>sorted()</code> function only works on a list with similar data types"
      ]
    },
    {
      "cell_type": "code",
      "source": [
        "a = a = [1,2,3,4,100,99]\n",
        "print(sorted(a))"
      ],
      "metadata": {
        "colab": {
          "base_uri": "https://localhost:8080/"
        },
        "id": "ntQN8uj_nKgB",
        "outputId": "73b7b166-e1b2-4a02-eb2f-b59cab41ec20"
      },
      "execution_count": null,
      "outputs": [
        {
          "output_type": "stream",
          "name": "stdout",
          "text": [
            "[1, 2, 3, 4, 99, 100]\n"
          ]
        }
      ]
    },
    {
      "cell_type": "code",
      "source": [
        "print(a)"
      ],
      "metadata": {
        "colab": {
          "base_uri": "https://localhost:8080/"
        },
        "id": "v3NobwZPpiAu",
        "outputId": "242dec7f-bc8a-421d-925c-8c4a15481d75"
      },
      "execution_count": null,
      "outputs": [
        {
          "output_type": "stream",
          "name": "stdout",
          "text": [
            "[1, 2, 3, 4, 100, 99]\n"
          ]
        }
      ]
    },
    {
      "cell_type": "code",
      "source": [
        "print(sorted(a,reverse = True))"
      ],
      "metadata": {
        "colab": {
          "base_uri": "https://localhost:8080/"
        },
        "id": "IFF4bd6un5hi",
        "outputId": "8817d842-838c-402b-ecb4-ac8bc9e05982"
      },
      "execution_count": null,
      "outputs": [
        {
          "output_type": "stream",
          "name": "stdout",
          "text": [
            "[100, 99, 4, 3, 2, 1]\n"
          ]
        }
      ]
    },
    {
      "cell_type": "markdown",
      "metadata": {
        "id": "rshOIKENuH5F"
      },
      "source": [
        "### <code>pop()</code>\n",
        "\n",
        "* Use <code>pop()</code> to \"pop off\" an item from the list.\n",
        "\n",
        "\n",
        "* By default <code>pop()</code> takes off the element at the last index, but you can also specify which index to pop off.\n",
        "\n",
        "\n",
        "* <code>pop()</code> takes the index as an argument and returns the elenent which was popped off."
      ]
    },
    {
      "cell_type": "code",
      "source": [
        "a = [1,2,3,4,5,'rahul','mohan']\n",
        "a.pop(6)"
      ],
      "metadata": {
        "colab": {
          "base_uri": "https://localhost:8080/",
          "height": 35
        },
        "id": "zNiv3cRpoKrQ",
        "outputId": "c10dee85-9d7b-4362-b4c8-788e907c2653"
      },
      "execution_count": null,
      "outputs": [
        {
          "output_type": "execute_result",
          "data": {
            "text/plain": [
              "'mohan'"
            ],
            "application/vnd.google.colaboratory.intrinsic+json": {
              "type": "string"
            }
          },
          "metadata": {},
          "execution_count": 27
        }
      ]
    },
    {
      "cell_type": "code",
      "source": [
        "print(a)"
      ],
      "metadata": {
        "colab": {
          "base_uri": "https://localhost:8080/"
        },
        "id": "9roxrytZoKo5",
        "outputId": "ee232ed4-582f-4cbb-c2ca-1f2220b09596"
      },
      "execution_count": null,
      "outputs": [
        {
          "output_type": "stream",
          "name": "stdout",
          "text": [
            "[1, 2, 3, 4, 5, 'rahul']\n"
          ]
        }
      ]
    },
    {
      "cell_type": "code",
      "source": [],
      "metadata": {
        "id": "H0UVKOLOoKmm"
      },
      "execution_count": null,
      "outputs": []
    },
    {
      "cell_type": "markdown",
      "metadata": {
        "id": "YBAQ1FyQuH5f"
      },
      "source": [
        "### <code>remove()</code>\n",
        "\n",
        "* Use <code>remove()</code> to remove an item/element from the list.\n",
        "\n",
        "\n",
        "* By default <code>remove()</code> removes the specified element from the list.\n",
        "\n",
        "\n",
        "* <code>remove()</code> takes the element as an argument."
      ]
    },
    {
      "cell_type": "code",
      "source": [
        "a = [1,2,3,4,5,'rahul','mohan']\n",
        "a.remove('mohan')"
      ],
      "metadata": {
        "id": "OsKG_egComtx"
      },
      "execution_count": null,
      "outputs": []
    },
    {
      "cell_type": "code",
      "source": [
        "print(a)"
      ],
      "metadata": {
        "colab": {
          "base_uri": "https://localhost:8080/"
        },
        "id": "7zRhgx-pomrc",
        "outputId": "f4669be6-5da7-46cb-9a09-7b61f3772183"
      },
      "execution_count": null,
      "outputs": [
        {
          "output_type": "stream",
          "name": "stdout",
          "text": [
            "[1, 2, 3, 4, 5, 'rahul']\n"
          ]
        }
      ]
    },
    {
      "cell_type": "code",
      "source": [],
      "metadata": {
        "id": "DZXGuvyaomoq"
      },
      "execution_count": null,
      "outputs": []
    },
    {
      "cell_type": "markdown",
      "metadata": {
        "id": "Wheg57npuH5t"
      },
      "source": [
        "### <code>count()</code>\n",
        "\n",
        "\n",
        "* The <code>count()</code> method returns the total occurrence of a specified element in the list"
      ]
    },
    {
      "cell_type": "code",
      "source": [
        "a = [1,2,3,1]\n",
        "print(a.count(1))"
      ],
      "metadata": {
        "colab": {
          "base_uri": "https://localhost:8080/"
        },
        "id": "CbMZBp5TpYF3",
        "outputId": "ebf04d04-8a7f-49f6-a0d0-e3a856205ead"
      },
      "execution_count": null,
      "outputs": [
        {
          "output_type": "stream",
          "name": "stdout",
          "text": [
            "2\n"
          ]
        }
      ]
    },
    {
      "cell_type": "code",
      "source": [],
      "metadata": {
        "id": "1qG3QfNhpYDJ"
      },
      "execution_count": null,
      "outputs": []
    },
    {
      "cell_type": "markdown",
      "metadata": {
        "id": "f4JqHtEouH57"
      },
      "source": [
        "### <code>sort()</code>\n",
        "\n",
        "* Use <code>sort()</code> to sort the list in either ascending/descending order\n",
        "\n",
        "\n",
        "* The sorting is done in ascending order by default\n",
        "\n",
        "\n",
        "* <code>sort()</code> method takes the reverse boolean as an argument\n",
        "\n",
        "\n",
        "* <code>sort()</code> method only works on a list with elements of same data type"
      ]
    },
    {
      "cell_type": "code",
      "source": [],
      "metadata": {
        "id": "ecID52e5pbnW"
      },
      "execution_count": null,
      "outputs": []
    },
    {
      "cell_type": "code",
      "source": [],
      "metadata": {
        "id": "DxBKX5YppblD"
      },
      "execution_count": null,
      "outputs": []
    },
    {
      "cell_type": "code",
      "source": [],
      "metadata": {
        "id": "CGRfTpJOpbii"
      },
      "execution_count": null,
      "outputs": []
    },
    {
      "cell_type": "markdown",
      "metadata": {
        "id": "-PKIGd9xuH6a"
      },
      "source": [
        "### <code>reverse()</code>\n",
        "\n",
        "* <code>reverse()</code> method reverses the list"
      ]
    },
    {
      "cell_type": "code",
      "source": [
        "a = [1,2,0,100]\n",
        "a.reverse()\n",
        "print(a)"
      ],
      "metadata": {
        "colab": {
          "base_uri": "https://localhost:8080/"
        },
        "id": "qyD-OSGin93n",
        "outputId": "0b2feb76-9385-4ae4-d64b-4f56c72092ed"
      },
      "execution_count": null,
      "outputs": [
        {
          "output_type": "stream",
          "name": "stdout",
          "text": [
            "[100, 0, 2, 1]\n"
          ]
        }
      ]
    },
    {
      "cell_type": "code",
      "source": [
        "a = [1,2,0,100]\n",
        "a[::-1]"
      ],
      "metadata": {
        "colab": {
          "base_uri": "https://localhost:8080/"
        },
        "id": "r8AJn5C7pqXu",
        "outputId": "e6ffb9e6-c817-4454-dbf7-ae32b4927bf7"
      },
      "execution_count": null,
      "outputs": [
        {
          "output_type": "execute_result",
          "data": {
            "text/plain": [
              "[100, 0, 2, 1]"
            ]
          },
          "metadata": {},
          "execution_count": 36
        }
      ]
    },
    {
      "cell_type": "code",
      "source": [
        "a"
      ],
      "metadata": {
        "colab": {
          "base_uri": "https://localhost:8080/"
        },
        "id": "CXqMGpc0pzno",
        "outputId": "0f7dcbc7-4366-47e7-89ec-e0a6c68dad08"
      },
      "execution_count": null,
      "outputs": [
        {
          "output_type": "execute_result",
          "data": {
            "text/plain": [
              "[1, 2, 0, 100]"
            ]
          },
          "metadata": {},
          "execution_count": 37
        }
      ]
    },
    {
      "cell_type": "code",
      "source": [],
      "metadata": {
        "id": "hr5L9kYxp2qN"
      },
      "execution_count": null,
      "outputs": []
    }
  ]
}