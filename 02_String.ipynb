{
  "nbformat": 4,
  "nbformat_minor": 0,
  "metadata": {
    "colab": {
      "provenance": [],
      "include_colab_link": true
    },
    "kernelspec": {
      "name": "python3",
      "display_name": "Python 3"
    },
    "language_info": {
      "name": "python"
    }
  },
  "cells": [
    {
      "cell_type": "markdown",
      "metadata": {
        "id": "view-in-github",
        "colab_type": "text"
      },
      "source": [
        "<a href=\"https://colab.research.google.com/github/sabhas808922/AIML/blob/main/02_String.ipynb\" target=\"_parent\"><img src=\"https://colab.research.google.com/assets/colab-badge.svg\" alt=\"Open In Colab\"/></a>"
      ]
    },
    {
      "cell_type": "markdown",
      "metadata": {
        "id": "tdT_IP3Pmr0m"
      },
      "source": [
        "# Introduction to Strings"
      ]
    },
    {
      "cell_type": "markdown",
      "metadata": {
        "id": "i_QBxEJymr0n"
      },
      "source": [
        "* Strings are used in Python to record text information, such as names. It could either be a word, a phrase, a sentence, a paragraph or an entire encyclopedia. Strings in Python are actually a *sequence*, which     basically means Python keeps track of every element in the string as a sequence. For example, Python understands the string \"joker' to be a sequence of letters in a specific order. This means we will be able to use indexing to grab particular letters (like the first letter, or the last letter).\n",
        "\n",
        "\n",
        "* This idea of a sequence is an important one in Python and we will touch upon it later on in the future."
      ]
    },
    {
      "cell_type": "markdown",
      "metadata": {
        "id": "w_7O10QKmr0o"
      },
      "source": [
        "###  Creating a String\n",
        "* To create a string in Python you need to use either single quotes or double quotes. For example:"
      ]
    },
    {
      "cell_type": "code",
      "source": [
        "a = 'hello'\n",
        "type(a)"
      ],
      "metadata": {
        "colab": {
          "base_uri": "https://localhost:8080/"
        },
        "id": "gNhdxyqGD6G5",
        "outputId": "225a3eb4-7668-417e-f652-45806bbf19bb"
      },
      "execution_count": null,
      "outputs": [
        {
          "output_type": "execute_result",
          "data": {
            "text/plain": [
              "str"
            ]
          },
          "metadata": {},
          "execution_count": 1
        }
      ]
    },
    {
      "cell_type": "code",
      "source": [
        "a = \"hello\"\n",
        "type(a)"
      ],
      "metadata": {
        "colab": {
          "base_uri": "https://localhost:8080/"
        },
        "id": "-PkIOc75D58g",
        "outputId": "22910ec7-1ad8-499d-db16-1670268624aa"
      },
      "execution_count": null,
      "outputs": [
        {
          "output_type": "execute_result",
          "data": {
            "text/plain": [
              "str"
            ]
          },
          "metadata": {},
          "execution_count": 3
        }
      ]
    },
    {
      "cell_type": "code",
      "source": [
        "a = 'i'm good'\n",
        "type(a)"
      ],
      "metadata": {
        "colab": {
          "base_uri": "https://localhost:8080/",
          "height": 106
        },
        "id": "3EVtVJ0YEXwX",
        "outputId": "5207fe95-5ea6-4a1c-e7e3-e7bb67f8f0c3"
      },
      "execution_count": null,
      "outputs": [
        {
          "output_type": "error",
          "ename": "SyntaxError",
          "evalue": "unterminated string literal (detected at line 1) (ipython-input-4-1462912969.py, line 1)",
          "traceback": [
            "\u001b[0;36m  File \u001b[0;32m\"/tmp/ipython-input-4-1462912969.py\"\u001b[0;36m, line \u001b[0;32m1\u001b[0m\n\u001b[0;31m    a = 'i'm good'\u001b[0m\n\u001b[0m                 ^\u001b[0m\n\u001b[0;31mSyntaxError\u001b[0m\u001b[0;31m:\u001b[0m unterminated string literal (detected at line 1)\n"
          ]
        }
      ]
    },
    {
      "cell_type": "code",
      "source": [
        "a = \"i'm good\"\n",
        "type(a)"
      ],
      "metadata": {
        "colab": {
          "base_uri": "https://localhost:8080/"
        },
        "id": "MRQ6AdMAEncO",
        "outputId": "be2b2e93-e276-4138-94df-6c859f912e00"
      },
      "execution_count": null,
      "outputs": [
        {
          "output_type": "execute_result",
          "data": {
            "text/plain": [
              "str"
            ]
          },
          "metadata": {},
          "execution_count": 5
        }
      ]
    },
    {
      "cell_type": "code",
      "source": [
        "a = '100.!@#@$%UIO3'\n",
        "type(a)"
      ],
      "metadata": {
        "colab": {
          "base_uri": "https://localhost:8080/"
        },
        "id": "98dSf8S5Et_V",
        "outputId": "b52942b6-1efa-483d-e2f8-23f44fbc486b"
      },
      "execution_count": null,
      "outputs": [
        {
          "output_type": "execute_result",
          "data": {
            "text/plain": [
              "str"
            ]
          },
          "metadata": {},
          "execution_count": 6
        }
      ]
    },
    {
      "cell_type": "markdown",
      "metadata": {
        "id": "6XqIFlaYmr1H"
      },
      "source": [
        "### <u> String Indexing </u>\n",
        "\n",
        "* We know strings are a sequence, which means Python can use indexes to call parts of the sequence.\n",
        "\n",
        "\n",
        "* A string index refers to the location of an element present in a string.\n",
        "\n",
        "\n",
        "* The indexing begins from 0 in Python.\n",
        "\n",
        "\n",
        "* The first element is assigned an index 0, the second element is assigned an index of 1 and so on and so forth.\n",
        "\n",
        "\n",
        "* In Python, we use brackets <code>[]</code> after an object to call its index."
      ]
    },
    {
      "cell_type": "markdown",
      "source": [
        "![image.png](data:image/png;base64,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)"
      ],
      "metadata": {
        "id": "Q1W_ZKCmTXKx"
      }
    },
    {
      "cell_type": "code",
      "source": [
        "a = 'python'\n",
        "print(a[0])"
      ],
      "metadata": {
        "colab": {
          "base_uri": "https://localhost:8080/"
        },
        "id": "yXs0lYkqE6sy",
        "outputId": "0e1aace4-2efd-49f9-c20c-52b30f73fa04"
      },
      "execution_count": null,
      "outputs": [
        {
          "output_type": "stream",
          "name": "stdout",
          "text": [
            "p\n"
          ]
        }
      ]
    },
    {
      "cell_type": "code",
      "source": [
        "print(a[3])"
      ],
      "metadata": {
        "colab": {
          "base_uri": "https://localhost:8080/"
        },
        "id": "khubnitaFzoY",
        "outputId": "0c636b77-cadb-4314-c286-79b8a8544bf5"
      },
      "execution_count": null,
      "outputs": [
        {
          "output_type": "stream",
          "name": "stdout",
          "text": [
            "h\n"
          ]
        }
      ]
    },
    {
      "cell_type": "code",
      "source": [
        "a = 'String Indexing'\n",
        "print(a[6])"
      ],
      "metadata": {
        "colab": {
          "base_uri": "https://localhost:8080/"
        },
        "id": "gnojRM8oF8IT",
        "outputId": "405709d7-2035-4948-f921-373d3e54227b"
      },
      "execution_count": null,
      "outputs": [
        {
          "output_type": "stream",
          "name": "stdout",
          "text": [
            " \n"
          ]
        }
      ]
    },
    {
      "cell_type": "markdown",
      "metadata": {
        "id": "EhEAYjRnmr1U"
      },
      "source": [
        "### String Slicing"
      ]
    },
    {
      "cell_type": "markdown",
      "metadata": {
        "id": "3h7kltimmr1V"
      },
      "source": [
        "* We can use a <code>:</code> to perform *slicing* which grabs everything up to a designated point.\n",
        "\n",
        "\n",
        "* The starting index is specified on the left of the <code>:</code> and the ending index is specified on the right of the <code>:</code>.\n",
        "\n",
        "\n",
        "* Remember the element located at the right index is not included."
      ]
    },
    {
      "cell_type": "code",
      "source": [
        "a = 'String Slicing'\n",
        "# print(a[start_index :end_index])\n",
        "print(a[3:6])"
      ],
      "metadata": {
        "colab": {
          "base_uri": "https://localhost:8080/"
        },
        "id": "ZRYq5SUXGer6",
        "outputId": "18784e32-667c-44b9-c4bf-539be0cc1ade"
      },
      "execution_count": null,
      "outputs": [
        {
          "output_type": "stream",
          "name": "stdout",
          "text": [
            "ing\n"
          ]
        }
      ]
    },
    {
      "cell_type": "code",
      "source": [
        "print(a[3:9])"
      ],
      "metadata": {
        "colab": {
          "base_uri": "https://localhost:8080/"
        },
        "id": "hpf-7eXJHI4S",
        "outputId": "0d1dc10e-0b8f-4c7d-e96e-e29f4bc01f87"
      },
      "execution_count": null,
      "outputs": [
        {
          "output_type": "stream",
          "name": "stdout",
          "text": [
            "ing Sl\n"
          ]
        }
      ]
    },
    {
      "cell_type": "markdown",
      "source": [
        "![image.png](data:image/png;base64,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)"
      ],
      "metadata": {
        "id": "8LoUuIs-vFos"
      }
    },
    {
      "cell_type": "code",
      "source": [
        "print(a)"
      ],
      "metadata": {
        "colab": {
          "base_uri": "https://localhost:8080/"
        },
        "id": "eI49gAoqHpfp",
        "outputId": "db96cd15-00df-43ce-ec3b-a4f17cad43e2"
      },
      "execution_count": null,
      "outputs": [
        {
          "output_type": "stream",
          "name": "stdout",
          "text": [
            "String Slicing\n"
          ]
        }
      ]
    },
    {
      "cell_type": "code",
      "source": [
        "print(a[3:9:2])"
      ],
      "metadata": {
        "colab": {
          "base_uri": "https://localhost:8080/"
        },
        "id": "9zia1eP1HYnM",
        "outputId": "8a0b0bd8-8d7e-42cc-d3cb-b7bf84884639"
      },
      "execution_count": null,
      "outputs": [
        {
          "output_type": "stream",
          "name": "stdout",
          "text": [
            "igS\n"
          ]
        }
      ]
    },
    {
      "cell_type": "markdown",
      "metadata": {
        "id": "cGn9h31xmr13"
      },
      "source": [
        "* Notice how the error tells us directly what we can't do, that is we can't change the item assignment!\n",
        "\n",
        "\n",
        "* Something we *can* do is concatenate strings!"
      ]
    },
    {
      "cell_type": "code",
      "source": [
        "a = 'rahul'\n",
        "b = 'singh'\n",
        "print(a+b)"
      ],
      "metadata": {
        "colab": {
          "base_uri": "https://localhost:8080/"
        },
        "id": "Lpp2DpdSHo5f",
        "outputId": "4d6e0140-b2d5-4d83-e9b2-635146e715e0"
      },
      "execution_count": null,
      "outputs": [
        {
          "output_type": "stream",
          "name": "stdout",
          "text": [
            "rahulsingh\n"
          ]
        }
      ]
    },
    {
      "cell_type": "code",
      "source": [
        "a = 'rahul'\n",
        "b = 'singh'\n",
        "print(a+' '+b)"
      ],
      "metadata": {
        "colab": {
          "base_uri": "https://localhost:8080/"
        },
        "id": "IdaraxasIeFl",
        "outputId": "eb726ccd-a7db-4e7b-cf00-b063e76966b2"
      },
      "execution_count": null,
      "outputs": [
        {
          "output_type": "stream",
          "name": "stdout",
          "text": [
            "rahul singh\n"
          ]
        }
      ]
    },
    {
      "cell_type": "code",
      "source": [
        "a = 'rahul '\n",
        "print(a*10)"
      ],
      "metadata": {
        "colab": {
          "base_uri": "https://localhost:8080/"
        },
        "id": "7IhUg29PI1A1",
        "outputId": "0a3ff977-4dc6-47d9-d313-bba6cb1f81b8"
      },
      "execution_count": null,
      "outputs": [
        {
          "output_type": "stream",
          "name": "stdout",
          "text": [
            "rahul rahul rahul rahul rahul rahul rahul rahul rahul rahul \n"
          ]
        }
      ]
    },
    {
      "cell_type": "markdown",
      "metadata": {
        "id": "duTA9_hlmr2C"
      },
      "source": [
        "## String functions and methods"
      ]
    },
    {
      "cell_type": "markdown",
      "metadata": {
        "id": "03n7vTXRmr2E"
      },
      "source": [
        "### <code>len()</code>\n",
        "\n",
        "* <code>len()</code> function returns the length of the string"
      ]
    },
    {
      "cell_type": "code",
      "source": [
        "a = 'String functions'\n",
        "print(len(a))"
      ],
      "metadata": {
        "colab": {
          "base_uri": "https://localhost:8080/"
        },
        "id": "Grdv23mdI-e8",
        "outputId": "5ce8bc35-b351-4b03-f039-9989cf464ebe"
      },
      "execution_count": null,
      "outputs": [
        {
          "output_type": "stream",
          "name": "stdout",
          "text": [
            "16\n"
          ]
        }
      ]
    },
    {
      "cell_type": "code",
      "source": [
        "a = ' String functions '\n",
        "print(len(a))"
      ],
      "metadata": {
        "colab": {
          "base_uri": "https://localhost:8080/"
        },
        "id": "0TT6TOJPJlam",
        "outputId": "c3083403-6d8d-4ab7-f002-cc9c48c90405"
      },
      "execution_count": null,
      "outputs": [
        {
          "output_type": "stream",
          "name": "stdout",
          "text": [
            "18\n"
          ]
        }
      ]
    },
    {
      "cell_type": "code",
      "source": [],
      "metadata": {
        "id": "3iqYsSmiJoJO"
      },
      "execution_count": null,
      "outputs": []
    },
    {
      "cell_type": "markdown",
      "metadata": {
        "id": "cF2zYtzdmr2G"
      },
      "source": [
        "###  <code>lower()</code>\n",
        "\n",
        "* <code>lower()</code> method converts the string to lowercase"
      ]
    },
    {
      "cell_type": "code",
      "source": [
        "a = 'Rahul'\n",
        "a.lower()"
      ],
      "metadata": {
        "colab": {
          "base_uri": "https://localhost:8080/",
          "height": 35
        },
        "id": "XdoowG50JsHM",
        "outputId": "4d20a53b-a458-4efb-db1b-dafda791c8e8"
      },
      "execution_count": null,
      "outputs": [
        {
          "output_type": "execute_result",
          "data": {
            "text/plain": [
              "'rahul'"
            ],
            "application/vnd.google.colaboratory.intrinsic+json": {
              "type": "string"
            }
          },
          "metadata": {},
          "execution_count": 21
        }
      ]
    },
    {
      "cell_type": "code",
      "source": [
        "a = 'rahul'\n",
        "a.upper()"
      ],
      "metadata": {
        "colab": {
          "base_uri": "https://localhost:8080/",
          "height": 35
        },
        "id": "ZZDy7eSLJ0CY",
        "outputId": "b9fb88b8-49c2-47ff-8b4c-5aa644246141"
      },
      "execution_count": null,
      "outputs": [
        {
          "output_type": "execute_result",
          "data": {
            "text/plain": [
              "'RAHUL'"
            ],
            "application/vnd.google.colaboratory.intrinsic+json": {
              "type": "string"
            }
          },
          "metadata": {},
          "execution_count": 22
        }
      ]
    },
    {
      "cell_type": "code",
      "source": [
        "print(a[0].upper()+a[1:])"
      ],
      "metadata": {
        "colab": {
          "base_uri": "https://localhost:8080/"
        },
        "id": "Rm92u3g6KM6r",
        "outputId": "a8057833-5201-4172-8085-c4e379939098"
      },
      "execution_count": null,
      "outputs": [
        {
          "output_type": "stream",
          "name": "stdout",
          "text": [
            "Rahul\n"
          ]
        }
      ]
    },
    {
      "cell_type": "code",
      "source": [],
      "metadata": {
        "id": "ortHNqj6LTVE"
      },
      "execution_count": null,
      "outputs": []
    },
    {
      "cell_type": "markdown",
      "metadata": {
        "id": "ikQx6g8tmr2P"
      },
      "source": [
        "### <code>count()</code>\n",
        "\n",
        "*  <code>count()</code> method returns the count of a string in the given string. Unlike <code>lower()</code> and <code>upper()</code> method, the <code>count()</code> method takes a string as an argument"
      ]
    },
    {
      "cell_type": "code",
      "source": [
        "a = 'method returns'\n",
        "print(a.count('t'))"
      ],
      "metadata": {
        "colab": {
          "base_uri": "https://localhost:8080/"
        },
        "id": "HQJdqEvuLaKj",
        "outputId": "bdaae159-8f5a-4a65-9efa-3e39e96b8a99"
      },
      "execution_count": null,
      "outputs": [
        {
          "output_type": "stream",
          "name": "stdout",
          "text": [
            "2\n"
          ]
        }
      ]
    },
    {
      "cell_type": "code",
      "source": [],
      "metadata": {
        "id": "ZYj8hIbvLion"
      },
      "execution_count": null,
      "outputs": []
    },
    {
      "cell_type": "markdown",
      "metadata": {
        "id": "YPKnWGBFmr2k"
      },
      "source": [
        "### <code>find()</code>\n",
        "\n",
        "* <code>find()</code> method returns the index of the first occurrence of a string present in a given string. Similar to the <code>count()</code> method, the <code>find()</code> method takes a string as an argument"
      ]
    },
    {
      "cell_type": "code",
      "source": [
        "a = 'method returns'\n",
        "print(a.find('t'))"
      ],
      "metadata": {
        "colab": {
          "base_uri": "https://localhost:8080/"
        },
        "id": "3oXK1TQNLqWR",
        "outputId": "9743ffef-392a-41e3-c98b-b41e017f5abc"
      },
      "execution_count": null,
      "outputs": [
        {
          "output_type": "stream",
          "name": "stdout",
          "text": [
            "0\n"
          ]
        }
      ]
    },
    {
      "cell_type": "markdown",
      "metadata": {
        "id": "-Q_dsma-mr2t"
      },
      "source": [
        "### <code>replace()</code>\n",
        "\n",
        "*  <code>replace()</code> method takes two arguments - (i) the string to replace and (ii) the string to replace with, and returns a modified string after the operation"
      ]
    },
    {
      "cell_type": "code",
      "source": [
        "a = 'hello'\n",
        "a.replace('l','c')"
      ],
      "metadata": {
        "colab": {
          "base_uri": "https://localhost:8080/",
          "height": 35
        },
        "id": "VCdNgvI6LvOn",
        "outputId": "ea617f85-697e-4794-d38c-f36c6d63d453"
      },
      "execution_count": null,
      "outputs": [
        {
          "output_type": "execute_result",
          "data": {
            "text/plain": [
              "'hecco'"
            ],
            "application/vnd.google.colaboratory.intrinsic+json": {
              "type": "string"
            }
          },
          "metadata": {},
          "execution_count": 27
        }
      ]
    },
    {
      "cell_type": "code",
      "source": [
        "a.replace('lo','ko')"
      ],
      "metadata": {
        "colab": {
          "base_uri": "https://localhost:8080/",
          "height": 35
        },
        "id": "-jzGDmO1McdI",
        "outputId": "d8cab313-d97b-48ee-f485-d445cea38c4d"
      },
      "execution_count": null,
      "outputs": [
        {
          "output_type": "execute_result",
          "data": {
            "text/plain": [
              "'helko'"
            ],
            "application/vnd.google.colaboratory.intrinsic+json": {
              "type": "string"
            }
          },
          "metadata": {},
          "execution_count": 28
        }
      ]
    },
    {
      "cell_type": "markdown",
      "metadata": {
        "id": "uOh2_4hKmr24"
      },
      "source": [
        "### Printing strings a bit differently"
      ]
    },
    {
      "cell_type": "code",
      "source": [
        "a = 'rahul'\n",
        "print(f'welcome {a} in python')"
      ],
      "metadata": {
        "colab": {
          "base_uri": "https://localhost:8080/"
        },
        "id": "OlIx1BfhMxea",
        "outputId": "74e66378-02cb-467a-eb0e-9db788be6715"
      },
      "execution_count": null,
      "outputs": [
        {
          "output_type": "stream",
          "name": "stdout",
          "text": [
            "welcome rahul in python\n"
          ]
        }
      ]
    },
    {
      "cell_type": "code",
      "source": [
        "a = 'rahul'\n",
        "b = 'singh'\n",
        "print(f'welcome {a} {b} in python')"
      ],
      "metadata": {
        "colab": {
          "base_uri": "https://localhost:8080/"
        },
        "id": "nO4WBj7UNLP0",
        "outputId": "b33d7bf6-bee8-4641-e14a-80c34d2a618d"
      },
      "execution_count": null,
      "outputs": [
        {
          "output_type": "stream",
          "name": "stdout",
          "text": [
            "welcome rahul singh in python\n"
          ]
        }
      ]
    },
    {
      "cell_type": "code",
      "source": [],
      "metadata": {
        "id": "5AsNdwqkNPH-"
      },
      "execution_count": null,
      "outputs": []
    }
  ]
}