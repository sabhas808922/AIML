{
  "nbformat": 4,
  "nbformat_minor": 0,
  "metadata": {
    "colab": {
      "provenance": [],
      "include_colab_link": true
    },
    "kernelspec": {
      "name": "python3",
      "display_name": "Python 3"
    },
    "language_info": {
      "name": "python"
    }
  },
  "cells": [
    {
      "cell_type": "markdown",
      "metadata": {
        "id": "view-in-github",
        "colab_type": "text"
      },
      "source": [
        "<a href=\"https://colab.research.google.com/github/sabhas808922/AIML/blob/main/01_Statements.ipynb\" target=\"_parent\"><img src=\"https://colab.research.google.com/assets/colab-badge.svg\" alt=\"Open In Colab\"/></a>"
      ]
    },
    {
      "cell_type": "markdown",
      "metadata": {
        "id": "khxoqawIHnoN"
      },
      "source": [
        "# <u>Python Comments</u>"
      ]
    },
    {
      "cell_type": "markdown",
      "metadata": {
        "id": "7he_1JNlHnoN"
      },
      "source": [
        "* Comments are very important while writing a program. They describe what is going on inside a program, so that a person looking at the source code does not have a hard time figuring it out.\n",
        "\n",
        "\n",
        "* You might forget the key details of the program you just wrote in a month's time. So taking the time to explain these concepts in the form of comments is always fruitful.\n",
        "\n",
        "\n",
        "* In Python, we use the hash (#) symbol to start writing a comment.\n",
        "\n",
        "\n",
        "* It extends up to the newline character. Comments are for programmers to better understand a program. Python Interpreter ignores comments."
      ]
    },
    {
      "cell_type": "code",
      "source": [
        "# this is add of two a,b\n",
        "a = 10\n",
        "b = 20\n",
        "print(a+b)"
      ],
      "metadata": {
        "colab": {
          "base_uri": "https://localhost:8080/"
        },
        "id": "wrbkp_fQOm6h",
        "outputId": "15f9f57f-47b4-4ca3-8069-cd7428fbfc42"
      },
      "execution_count": null,
      "outputs": [
        {
          "output_type": "stream",
          "name": "stdout",
          "text": [
            "30\n"
          ]
        }
      ]
    },
    {
      "cell_type": "code",
      "source": [
        "# this is add of two a,b\n",
        "# this is add of two a,b\n",
        "# this is add of two a,b # this is add of two a,b\n",
        "\n",
        "a = 10\n",
        "b = 20\n",
        "print(a+b)"
      ],
      "metadata": {
        "colab": {
          "base_uri": "https://localhost:8080/"
        },
        "id": "tz2kDeQ2PNnT",
        "outputId": "a2f3ef7e-aa9c-46de-c708-55d70135f117"
      },
      "execution_count": null,
      "outputs": [
        {
          "output_type": "stream",
          "name": "stdout",
          "text": [
            "30\n"
          ]
        }
      ]
    },
    {
      "cell_type": "code",
      "source": [
        "\"\"\"\n",
        "\n",
        "this is multi line comment\n",
        "jhdfkjsdhfh\n",
        "fdskjgj jf gjsdgfjshdkj\n",
        "\n",
        "\n",
        "\"\"\"\n",
        "a = 10\n",
        "b = 20\n",
        "print(a+b)"
      ],
      "metadata": {
        "colab": {
          "base_uri": "https://localhost:8080/"
        },
        "id": "aoMdOuMtPYQJ",
        "outputId": "5007ce04-3a02-44ca-a79b-af64a9116df8"
      },
      "execution_count": null,
      "outputs": [
        {
          "output_type": "stream",
          "name": "stdout",
          "text": [
            "30\n"
          ]
        }
      ]
    },
    {
      "cell_type": "markdown",
      "metadata": {
        "id": "XM2CjOCyHnoV"
      },
      "source": [
        "# <u>Indentation in Python </u>\n",
        "\n",
        "It is important to keep a good understanding of how indentation works in Python to maintain the structure and order of your code. We will touch on this topic again when we start building out functions!"
      ]
    },
    {
      "cell_type": "markdown",
      "metadata": {
        "id": "uhAgTP0tHnoW"
      },
      "source": [
        "* Let's create a simple statement that says: \"If a is greater than b, assign 2 to a and 4 to b\"\n",
        "\n",
        "\n",
        "* Take a look at how to write a simple if statement                 "
      ]
    },
    {
      "cell_type": "markdown",
      "metadata": {
        "id": "7zf6T5CSHnog"
      },
      "source": [
        "* You'll notice that Python is less cluttered and much more readable than other languages like C or Java. How does Python manage this?\n",
        "\n",
        "\n",
        "* The statement is ended with a colon, and whitespace(tab) is used (indentation) to describe what takes place in case of the statement.\n",
        "\n",
        "\n",
        "* Another major difference is the lack of semicolons in Python.\n",
        "\n",
        "\n",
        "* Semicolons are used to denote statement endings in many other languages, but in Python, **the end of a line is the same as the end of a statement.**\n",
        "\n",
        "\n",
        "* Lastly, to end this brief overview of differences, let's take a closer look at indentation syntax in Python vs other languages:"
      ]
    },
    {
      "cell_type": "code",
      "source": [
        "a = 'rahul'\n",
        "  print(a)"
      ],
      "metadata": {
        "colab": {
          "base_uri": "https://localhost:8080/",
          "height": 106
        },
        "id": "JF_oJTRaPpMM",
        "outputId": "3f26fd5d-d64b-4ffd-b5b2-819ba7a902b0"
      },
      "execution_count": null,
      "outputs": [
        {
          "output_type": "error",
          "ename": "IndentationError",
          "evalue": "unexpected indent (ipython-input-5-3828870796.py, line 2)",
          "traceback": [
            "\u001b[0;36m  File \u001b[0;32m\"/tmp/ipython-input-5-3828870796.py\"\u001b[0;36m, line \u001b[0;32m2\u001b[0m\n\u001b[0;31m    print(a)\u001b[0m\n\u001b[0m    ^\u001b[0m\n\u001b[0;31mIndentationError\u001b[0m\u001b[0;31m:\u001b[0m unexpected indent\n"
          ]
        }
      ]
    },
    {
      "cell_type": "markdown",
      "metadata": {
        "id": "1tDQg0B1Hnog"
      },
      "source": [
        "# <u> Conditional Statements </u>\n",
        "\n",
        "* <code>if</code> Statements in Python allows us to tell the computer to perform alternative actions based on a certain set of results.\n",
        "\n",
        "\n",
        "* Verbally, we can imagine we are telling the computer:\"Hey if this case happens, perform some action\"\n",
        "\n",
        "\n",
        "* We can then expand the idea further with <code>elif</code> and <code>else</code> statements, which allow us to tell the computer: \"Hey if this case happens, perform some action. Else, if another case happens, perform some other action. Else, if *none* of the above cases happened, perform this action.\"\n",
        "\n",
        "\n",
        "* Let's go ahead and look at the syntax format for <code>if</code> statements to get a better idea of this:\n",
        "\n",
        "    if case1:\n",
        "        perform action1\n",
        "    elif case2:\n",
        "        perform action2\n",
        "    else:\n",
        "        perform action3"
      ]
    },
    {
      "cell_type": "code",
      "metadata": {
        "id": "9HTiofEDoOR6"
      },
      "source": [
        "if case1 :\n",
        "  # do some action\n",
        "\n",
        "elif case2 :\n",
        "  # do some another action\n",
        "else:\n",
        "  # do some yet another action"
      ],
      "execution_count": null,
      "outputs": []
    },
    {
      "cell_type": "code",
      "source": [
        "a = 'rahul'\n",
        "\n",
        "if a == 'mohan':\n",
        "  print('welcome mohan')\n",
        "\n",
        "elif a == 'rahul':\n",
        "  print('welcome rahul')\n",
        "\n",
        "else:\n",
        "  print('welcome guest')"
      ],
      "metadata": {
        "colab": {
          "base_uri": "https://localhost:8080/"
        },
        "id": "lsllSaeiPdd1",
        "outputId": "e4ee027f-afcd-4237-b323-84894611ae00"
      },
      "execution_count": null,
      "outputs": [
        {
          "output_type": "stream",
          "name": "stdout",
          "text": [
            "welcome rahul\n"
          ]
        }
      ]
    },
    {
      "cell_type": "code",
      "source": [
        "a = 'rahul'\n",
        "\n",
        "if a == 'mohan':\n",
        "  print('welcome mohan')\n",
        "\n",
        "elif a == 'rahuL':\n",
        "  print('welcome rahul')\n",
        "\n",
        "else:\n",
        "  print('welcome guest')"
      ],
      "metadata": {
        "colab": {
          "base_uri": "https://localhost:8080/"
        },
        "id": "8vcuL4KaSnVS",
        "outputId": "3ed75232-ccb5-4bf7-cf91-fc4b8aab5191"
      },
      "execution_count": null,
      "outputs": [
        {
          "output_type": "stream",
          "name": "stdout",
          "text": [
            "welcome guest\n"
          ]
        }
      ]
    },
    {
      "cell_type": "code",
      "source": [
        "x = 10   # Statement 1 - Assignment statement\n",
        "\n",
        "if x <= 30 :\n",
        "  print('x is greater than 10!')\n",
        "\n",
        "\n",
        "else:\n",
        "  print('x is less than 30!')"
      ],
      "metadata": {
        "colab": {
          "base_uri": "https://localhost:8080/"
        },
        "id": "sC8w1abLSnR_",
        "outputId": "3bd41423-7655-4d50-e8a8-4a7073a9fbf9"
      },
      "execution_count": null,
      "outputs": [
        {
          "output_type": "stream",
          "name": "stdout",
          "text": [
            "x is greater than 10!\n"
          ]
        }
      ]
    },
    {
      "cell_type": "code",
      "source": [
        "city = 'Pune'\n",
        "\n",
        "if city == 'New Delhi':\n",
        "  print('Welcome to the Indian Capital')\n",
        "elif city == 'Mumbai':\n",
        "  print('Welcome to the Financial Capital of India!')\n",
        "\n",
        "elif city == 'Pune':\n",
        "  print('hello ')\n",
        "else:\n",
        "  print('Where are you?')"
      ],
      "metadata": {
        "colab": {
          "base_uri": "https://localhost:8080/"
        },
        "id": "StamKY8oTh4z",
        "outputId": "c6b480a8-9475-42ad-bb86-fed220ee0df8"
      },
      "execution_count": null,
      "outputs": [
        {
          "output_type": "stream",
          "name": "stdout",
          "text": [
            "hello \n"
          ]
        }
      ]
    },
    {
      "cell_type": "code",
      "source": [
        "person = 'Johnny'\n",
        "\n",
        "if person == 'John':\n",
        "    print(f'Welcome John!')\n",
        "else:\n",
        "    print(\"Welcome, what's your name?\")"
      ],
      "metadata": {
        "colab": {
          "base_uri": "https://localhost:8080/"
        },
        "id": "cEa_YGU2T42Z",
        "outputId": "ff51c831-0405-45ba-ded0-d993da2daf52"
      },
      "execution_count": null,
      "outputs": [
        {
          "output_type": "stream",
          "name": "stdout",
          "text": [
            "Welcome, what's your name?\n"
          ]
        }
      ]
    },
    {
      "cell_type": "code",
      "source": [
        "grade = 85\n",
        "\n",
        "if grade >= 90:\n",
        "    print(\"You got an A\")\n",
        "elif grade >= 80:\n",
        "    print(\"You got a B\")\n",
        "elif grade >= 70:\n",
        "    print(\"You got a C\")\n",
        "else:\n",
        "    print(\"You need to study more\")"
      ],
      "metadata": {
        "id": "drzMojC5T_CX"
      },
      "execution_count": null,
      "outputs": []
    },
    {
      "cell_type": "code",
      "source": [
        "number1 = -1\n",
        "number2 = 12\n",
        "\n",
        "if number1 > 0:\n",
        "  if number2 < 10 :\n",
        "    print(number2 + number1)\n",
        "  else:\n",
        "    print(\"Should be greater than 10\")\n",
        "\n",
        "elif number1 < 0:\n",
        "    print(\"Ah, that's a negative number\")\n",
        "else:\n",
        "    print(\"The number is zero!\")"
      ],
      "metadata": {
        "id": "7UCXIzAbUWPD"
      },
      "execution_count": null,
      "outputs": []
    },
    {
      "cell_type": "code",
      "source": [],
      "metadata": {
        "id": "xP9U--BsUotN"
      },
      "execution_count": null,
      "outputs": []
    },
    {
      "cell_type": "code",
      "source": [],
      "metadata": {
        "id": "xWja6Q5qUoqI"
      },
      "execution_count": null,
      "outputs": []
    }
  ]
}